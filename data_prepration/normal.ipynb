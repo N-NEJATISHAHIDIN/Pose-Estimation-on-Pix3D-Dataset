{
 "cells": [
  {
   "cell_type": "code",
   "execution_count": 1,
   "metadata": {},
   "outputs": [],
   "source": [
    "from PIL import Image\n",
    "import torchvision.transforms.functional as TF\n",
    "import visualpriors\n",
    "import subprocess\n",
    "\n",
    "import glob\n",
    "import os\n",
    "\n",
    "feature_type = 'normal'\n",
    "\n",
    "root_dir = \"../Pix3D/crop\"\n",
    "# Load image and rescale/resize to [-1,1] and 3x256x256\n",
    "for category in os.listdir(root_dir):\n",
    "    \n",
    "    path = root_dir+'/'+category\n",
    "    for _,_,list_name in os.walk(path):\n",
    "        \n",
    "        for name in list_name:\n",
    "            im_path = path + '/' + name\n",
    "            image = Image.open(im_path)\n",
    "            o_t = TF.to_tensor(TF.resize(image, 224)) * 2 - 1\n",
    "            o_t = o_t.unsqueeze_(0)\n",
    "\n",
    "            # Transform to normals feature\n",
    "            representation = visualpriors.representation_transform(o_t, feature_type, device='cpu') # phi(o_t) in the diagram below\n",
    "\n",
    "            # Transform to normals feature and then visualize the readout\n",
    "            pred = visualpriors.feature_readout(o_t, feature_type, device='cpu')\n",
    "            \n",
    "            \n",
    "            if not os.path.exists('../Pix3D/normal/'+category):\n",
    "                os.makedirs('../Pix3D/normal/'+category)\n",
    "            # Save it\n",
    "            TF.to_pil_image(pred[0] / 2. +0.5).save('../Pix3D/normal/{}/{}'.format(category,name))"
   ]
  },
  {
   "cell_type": "code",
   "execution_count": null,
   "metadata": {},
   "outputs": [],
   "source": []
  }
 ],
 "metadata": {
  "kernelspec": {
   "display_name": "Python 3",
   "language": "python",
   "name": "python3"
  },
  "language_info": {
   "codemirror_mode": {
    "name": "ipython",
    "version": 3
   },
   "file_extension": ".py",
   "mimetype": "text/x-python",
   "name": "python",
   "nbconvert_exporter": "python",
   "pygments_lexer": "ipython3",
   "version": "3.8.5"
  }
 },
 "nbformat": 4,
 "nbformat_minor": 4
}
